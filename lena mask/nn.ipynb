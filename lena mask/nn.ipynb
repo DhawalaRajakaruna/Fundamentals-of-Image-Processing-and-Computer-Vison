{
 "cells": [
  {
   "cell_type": "code",
   "execution_count": null,
   "id": "47876b78",
   "metadata": {},
   "outputs": [],
   "source": [
    "import numpy as np\n",
    "\n",
    "class Neuron:\n",
    "    def __init__(self, input_size, activation='sigmoid'):\n",
    "        self.weights = np.random.randn(input_size) * 0.01  # small random weights\n",
    "        self.bias = 0.0\n",
    "        self.activation = activation\n",
    "\n",
    "    def activate(self, z):\n",
    "        if self.activation == 'sigmoid':\n",
    "            return 1 / (1 + np.exp(-z))\n",
    "        elif self.activation == 'relu':\n",
    "            return np.maximum(0, z)\n",
    "        elif self.activation == 'tanh':\n",
    "            return np.tanh(z)\n",
    "        else:\n",
    "            return z  # linear\n",
    "\n",
    "    def forward(self, x):\n",
    "        \"\"\"\n",
    "        x: input vector (numpy array of shape [input_size])\n",
    "        Returns: output after applying activation\n",
    "        \"\"\"\n",
    "        z = np.dot(self.weights, x) + self.bias\n",
    "        return self.activate(z)\n",
    "\n",
    "    def update(self, x, y_true, lr=0.01):\n",
    "        \"\"\"\n",
    "        A simple gradient descent update for binary classification.\n",
    "        Only supports sigmoid + binary cross-entropy for now.\n",
    "        \"\"\"\n",
    "        z = np.dot(self.weights, x) + self.bias\n",
    "        y_pred = self.activate(z)\n",
    "\n",
    "        # Binary cross-entropy loss gradient (for sigmoid)\n",
    "        dz = y_pred - y_true\n",
    "        dw = dz * x\n",
    "        db = dz\n",
    "\n",
    "        # Update weights\n",
    "        self.weights -= lr * dw\n",
    "        self.bias -= lr * db\n",
    "\n",
    "        return y_pred, dz\n"
   ]
  },
  {
   "cell_type": "code",
   "execution_count": null,
   "id": "14b75656",
   "metadata": {},
   "outputs": [],
   "source": []
  }
 ],
 "metadata": {
  "language_info": {
   "name": "python"
  }
 },
 "nbformat": 4,
 "nbformat_minor": 5
}
